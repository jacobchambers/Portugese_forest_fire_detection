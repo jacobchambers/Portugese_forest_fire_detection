{
 "cells": [
  {
   "cell_type": "code",
   "execution_count": null,
   "id": "d133ef43",
   "metadata": {},
   "outputs": [],
   "source": [
    "# Conclusion\n",
    "\n",
    "# We were not able to fit a good model. Both SVR and linear regression had negative r2 values which meant that they # were worse at predicting than just guessing with a horizontal line. Our ANN model was positive but had an r2 \n",
    "# value of 0.0122 which is extremely low and not useful for any analysis. In order to improve our models we would \n",
    "# do the following:\n",
    "\n",
    "#    more parameter optimization\n",
    "#   try other models (xgboost)\n",
    "#    collect more data\n",
    "\n",
    "# We believe that the reason why our models were so weak is because of external data we were missing. For example, # fire fighter response to the fires is most likely one of the greatest factors. If the data for area burnt was \n",
    "# based on if the forest burned without human intervention, the models would likely be more accurate."
   ]
  }
 ],
 "metadata": {
  "kernelspec": {
   "display_name": "Python 3 (ipykernel)",
   "language": "python",
   "name": "python3"
  },
  "language_info": {
   "codemirror_mode": {
    "name": "ipython",
    "version": 3
   },
   "file_extension": ".py",
   "mimetype": "text/x-python",
   "name": "python",
   "nbconvert_exporter": "python",
   "pygments_lexer": "ipython3",
   "version": "3.8.13"
  }
 },
 "nbformat": 4,
 "nbformat_minor": 5
}
