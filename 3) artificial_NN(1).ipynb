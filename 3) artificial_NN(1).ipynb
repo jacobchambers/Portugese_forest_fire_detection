{
 "cells": [
  {
   "cell_type": "code",
   "execution_count": 1,
   "id": "dc01ef05",
   "metadata": {},
   "outputs": [],
   "source": [
    "### importing libraries ###\n",
    "\n",
    "import pandas as pd\n",
    "import keras\n",
    "from keras.models import Sequential\n",
    "from keras.layers import Dense, Dropout\n",
    "import matplotlib.pyplot as plt\n",
    "from sklearn.metrics import r2_score"
   ]
  },
  {
   "cell_type": "code",
   "execution_count": 3,
   "id": "cc6cd747",
   "metadata": {},
   "outputs": [],
   "source": [
    "# features\n",
    "features_train = pd.read_csv('features_train.csv', index_col = 0)\n",
    "features_test = pd.read_csv('features_test.csv', index_col = 0)\n",
    "\n",
    "# target\n",
    "target_train = pd.read_csv('target_train.csv', index_col = 0)\n",
    "target_test = pd.read_csv('target_test.csv', index_col = 0)"
   ]
  },
  {
   "cell_type": "code",
   "execution_count": 4,
   "id": "6570eb36",
   "metadata": {},
   "outputs": [],
   "source": [
    "### building ANN ###\n",
    "\n",
    "def ann():\n",
    "    classifier = Sequential()\n",
    "    \n",
    "    classifier.add(Dense(6, activation = 'relu', input_dim = 12))\n",
    "    classifier.add(Dense(6, activation = 'relu'))\n",
    "    classifier.add(Dense(6, activation = 'relu'))\n",
    "    \n",
    "    classifier.add(Dropout(0.2))\n",
    "    \n",
    "    classifier.add(Dense(1, activation = 'relu'))\n",
    "    \n",
    "    classifier.compile(optimizer = 'adam', loss = 'mse')\n",
    "    \n",
    "    return classifier"
   ]
  },
  {
   "cell_type": "code",
   "execution_count": 5,
   "id": "079c67b7",
   "metadata": {},
   "outputs": [
    {
     "name": "stderr",
     "output_type": "stream",
     "text": [
      "2022-04-07 11:33:21.314439: I tensorflow/core/common_runtime/pluggable_device/pluggable_device_factory.cc:305] Could not identify NUMA node of platform GPU ID 0, defaulting to 0. Your kernel may not have been built with NUMA support.\n",
      "2022-04-07 11:33:21.315010: I tensorflow/core/common_runtime/pluggable_device/pluggable_device_factory.cc:271] Created TensorFlow device (/job:localhost/replica:0/task:0/device:GPU:0 with 0 MB memory) -> physical PluggableDevice (device: 0, name: METAL, pci bus id: <undefined>)\n"
     ]
    },
    {
     "name": "stdout",
     "output_type": "stream",
     "text": [
      "Metal device set to: Apple M1\n",
      "Epoch 1/100\n"
     ]
    },
    {
     "name": "stderr",
     "output_type": "stream",
     "text": [
      "2022-04-07 11:33:22.047764: W tensorflow/core/platform/profile_utils/cpu_utils.cc:128] Failed to get CPU frequency: 0 Hz\n",
      "2022-04-07 11:33:22.238744: I tensorflow/core/grappler/optimizers/custom_graph_optimizer_registry.cc:113] Plugin optimizer for device_type GPU is enabled.\n"
     ]
    },
    {
     "name": "stdout",
     "output_type": "stream",
     "text": [
      "26/26 [==============================] - 2s 14ms/step - loss: 1.2583 - val_loss: 1.1549\n",
      "Epoch 2/100\n",
      "26/26 [==============================] - ETA: 0s - loss: 1.1407"
     ]
    },
    {
     "name": "stderr",
     "output_type": "stream",
     "text": [
      "2022-04-07 11:33:24.283461: I tensorflow/core/grappler/optimizers/custom_graph_optimizer_registry.cc:113] Plugin optimizer for device_type GPU is enabled.\n"
     ]
    },
    {
     "name": "stdout",
     "output_type": "stream",
     "text": [
      "26/26 [==============================] - 0s 7ms/step - loss: 1.1407 - val_loss: 1.0632\n",
      "Epoch 3/100\n",
      "26/26 [==============================] - 0s 6ms/step - loss: 1.0961 - val_loss: 1.0264\n",
      "Epoch 4/100\n",
      "26/26 [==============================] - 0s 6ms/step - loss: 1.0265 - val_loss: 1.0187\n",
      "Epoch 5/100\n",
      "26/26 [==============================] - 0s 7ms/step - loss: 1.0123 - val_loss: 1.0171\n",
      "Epoch 6/100\n",
      "26/26 [==============================] - 0s 6ms/step - loss: 1.0351 - val_loss: 1.0151\n",
      "Epoch 7/100\n",
      "26/26 [==============================] - 0s 6ms/step - loss: 1.0353 - val_loss: 1.0136\n",
      "Epoch 8/100\n",
      "26/26 [==============================] - 0s 6ms/step - loss: 1.0154 - val_loss: 1.0125\n",
      "Epoch 9/100\n",
      "26/26 [==============================] - 0s 7ms/step - loss: 1.0225 - val_loss: 1.0109\n",
      "Epoch 10/100\n",
      "26/26 [==============================] - 0s 7ms/step - loss: 1.0220 - val_loss: 1.0098\n",
      "Epoch 11/100\n",
      "26/26 [==============================] - 0s 7ms/step - loss: 1.0082 - val_loss: 1.0096\n",
      "Epoch 12/100\n",
      "26/26 [==============================] - 0s 7ms/step - loss: 1.0106 - val_loss: 1.0092\n",
      "Epoch 13/100\n",
      "26/26 [==============================] - 0s 6ms/step - loss: 1.0193 - val_loss: 1.0081\n",
      "Epoch 14/100\n",
      "26/26 [==============================] - 0s 6ms/step - loss: 1.0028 - val_loss: 1.0077\n",
      "Epoch 15/100\n",
      "26/26 [==============================] - 0s 6ms/step - loss: 1.0046 - val_loss: 1.0087\n",
      "Epoch 16/100\n",
      "26/26 [==============================] - 0s 6ms/step - loss: 1.0108 - val_loss: 1.0090\n",
      "Epoch 17/100\n",
      "26/26 [==============================] - 0s 8ms/step - loss: 1.0026 - val_loss: 1.0086\n",
      "Epoch 18/100\n",
      "26/26 [==============================] - 0s 8ms/step - loss: 1.0121 - val_loss: 1.0080\n",
      "Epoch 19/100\n",
      "26/26 [==============================] - 0s 7ms/step - loss: 1.0102 - val_loss: 1.0074\n",
      "Epoch 20/100\n",
      "26/26 [==============================] - 0s 7ms/step - loss: 1.0083 - val_loss: 1.0074\n",
      "Epoch 21/100\n",
      "26/26 [==============================] - 0s 7ms/step - loss: 1.0111 - val_loss: 1.0073\n",
      "Epoch 22/100\n",
      "26/26 [==============================] - 0s 8ms/step - loss: 1.0107 - val_loss: 1.0070\n",
      "Epoch 23/100\n",
      "26/26 [==============================] - 0s 7ms/step - loss: 1.0026 - val_loss: 1.0072\n",
      "Epoch 24/100\n",
      "26/26 [==============================] - 0s 7ms/step - loss: 1.0096 - val_loss: 1.0072\n",
      "Epoch 25/100\n",
      "26/26 [==============================] - 0s 7ms/step - loss: 0.9954 - val_loss: 1.0092\n",
      "Epoch 26/100\n",
      "26/26 [==============================] - 0s 7ms/step - loss: 1.0113 - val_loss: 1.0100\n",
      "Epoch 27/100\n",
      "26/26 [==============================] - 0s 7ms/step - loss: 1.0092 - val_loss: 1.0091\n",
      "Epoch 28/100\n",
      "26/26 [==============================] - 0s 7ms/step - loss: 1.0140 - val_loss: 1.0093\n",
      "Epoch 29/100\n",
      "26/26 [==============================] - 0s 7ms/step - loss: 1.0135 - val_loss: 1.0086\n",
      "Epoch 30/100\n",
      "26/26 [==============================] - 0s 7ms/step - loss: 0.9985 - val_loss: 1.0092\n",
      "Epoch 31/100\n",
      "26/26 [==============================] - 0s 7ms/step - loss: 1.0098 - val_loss: 1.0095\n",
      "Epoch 32/100\n",
      "26/26 [==============================] - 0s 7ms/step - loss: 1.0075 - val_loss: 1.0101\n",
      "Epoch 33/100\n",
      "26/26 [==============================] - 0s 7ms/step - loss: 0.9762 - val_loss: 1.0120\n",
      "Epoch 34/100\n",
      "26/26 [==============================] - 0s 7ms/step - loss: 0.9943 - val_loss: 1.0145\n",
      "Epoch 35/100\n",
      "26/26 [==============================] - 0s 7ms/step - loss: 1.0211 - val_loss: 1.0112\n",
      "Epoch 36/100\n",
      "26/26 [==============================] - 0s 6ms/step - loss: 1.0029 - val_loss: 1.0107\n",
      "Epoch 37/100\n",
      "26/26 [==============================] - 0s 8ms/step - loss: 0.9975 - val_loss: 1.0121\n",
      "Epoch 38/100\n",
      "26/26 [==============================] - 0s 7ms/step - loss: 0.9900 - val_loss: 1.0137\n",
      "Epoch 39/100\n",
      "26/26 [==============================] - 0s 7ms/step - loss: 1.0071 - val_loss: 1.0146\n",
      "Epoch 40/100\n",
      "26/26 [==============================] - 0s 7ms/step - loss: 1.0042 - val_loss: 1.0136\n",
      "Epoch 41/100\n",
      "26/26 [==============================] - 0s 7ms/step - loss: 1.0249 - val_loss: 1.0108\n",
      "Epoch 42/100\n",
      "26/26 [==============================] - 0s 7ms/step - loss: 1.0103 - val_loss: 1.0100\n",
      "Epoch 43/100\n",
      "26/26 [==============================] - 0s 7ms/step - loss: 0.9944 - val_loss: 1.0113\n",
      "Epoch 44/100\n",
      "26/26 [==============================] - 0s 7ms/step - loss: 1.0059 - val_loss: 1.0115\n",
      "Epoch 45/100\n",
      "26/26 [==============================] - 0s 7ms/step - loss: 1.0092 - val_loss: 1.0099\n",
      "Epoch 46/100\n",
      "26/26 [==============================] - 0s 7ms/step - loss: 1.0069 - val_loss: 1.0086\n",
      "Epoch 47/100\n",
      "26/26 [==============================] - 0s 7ms/step - loss: 0.9831 - val_loss: 1.0117\n",
      "Epoch 48/100\n",
      "26/26 [==============================] - 0s 6ms/step - loss: 0.9869 - val_loss: 1.0141\n",
      "Epoch 49/100\n",
      "26/26 [==============================] - 0s 7ms/step - loss: 0.9768 - val_loss: 1.0148\n",
      "Epoch 50/100\n",
      "26/26 [==============================] - 0s 7ms/step - loss: 1.0126 - val_loss: 1.0167\n",
      "Epoch 51/100\n",
      "26/26 [==============================] - 0s 7ms/step - loss: 1.0078 - val_loss: 1.0184\n",
      "Epoch 52/100\n",
      "26/26 [==============================] - 0s 7ms/step - loss: 1.0137 - val_loss: 1.0173\n",
      "Epoch 53/100\n",
      "26/26 [==============================] - 0s 7ms/step - loss: 1.0030 - val_loss: 1.0201\n",
      "Epoch 54/100\n",
      "26/26 [==============================] - 0s 7ms/step - loss: 0.9994 - val_loss: 1.0200\n",
      "Epoch 55/100\n",
      "26/26 [==============================] - 0s 7ms/step - loss: 0.9987 - val_loss: 1.0201\n",
      "Epoch 56/100\n",
      "26/26 [==============================] - 0s 7ms/step - loss: 0.9993 - val_loss: 1.0233\n",
      "Epoch 57/100\n",
      "26/26 [==============================] - 0s 7ms/step - loss: 1.0089 - val_loss: 1.0230\n",
      "Epoch 58/100\n",
      "26/26 [==============================] - 0s 7ms/step - loss: 1.0211 - val_loss: 1.0210\n",
      "Epoch 59/100\n",
      "26/26 [==============================] - 0s 7ms/step - loss: 0.9975 - val_loss: 1.0195\n",
      "Epoch 60/100\n",
      "26/26 [==============================] - 0s 7ms/step - loss: 1.0137 - val_loss: 1.0181\n",
      "Epoch 61/100\n",
      "26/26 [==============================] - 0s 7ms/step - loss: 0.9908 - val_loss: 1.0225\n",
      "Epoch 62/100\n",
      "26/26 [==============================] - 0s 7ms/step - loss: 1.0008 - val_loss: 1.0255\n",
      "Epoch 63/100\n",
      "26/26 [==============================] - 0s 6ms/step - loss: 0.9950 - val_loss: 1.0266\n",
      "Epoch 64/100\n",
      "26/26 [==============================] - 0s 7ms/step - loss: 0.9966 - val_loss: 1.0319\n",
      "Epoch 65/100\n",
      "26/26 [==============================] - 0s 6ms/step - loss: 1.0009 - val_loss: 1.0319\n",
      "Epoch 66/100\n",
      "26/26 [==============================] - 0s 6ms/step - loss: 0.9837 - val_loss: 1.0454\n",
      "Epoch 67/100\n",
      "26/26 [==============================] - 0s 6ms/step - loss: 0.9957 - val_loss: 1.0400\n",
      "Epoch 68/100\n",
      "26/26 [==============================] - 0s 7ms/step - loss: 1.0146 - val_loss: 1.0311\n",
      "Epoch 69/100\n",
      "26/26 [==============================] - 0s 7ms/step - loss: 0.9998 - val_loss: 1.0310\n",
      "Epoch 70/100\n",
      "26/26 [==============================] - 0s 6ms/step - loss: 1.0098 - val_loss: 1.0272\n",
      "Epoch 71/100\n",
      "26/26 [==============================] - 0s 6ms/step - loss: 0.9919 - val_loss: 1.0305\n",
      "Epoch 72/100\n",
      "26/26 [==============================] - 0s 6ms/step - loss: 1.0010 - val_loss: 1.0290\n",
      "Epoch 73/100\n",
      "26/26 [==============================] - 0s 6ms/step - loss: 0.9820 - val_loss: 1.0431\n",
      "Epoch 74/100\n",
      "26/26 [==============================] - 0s 6ms/step - loss: 0.9700 - val_loss: 1.0491\n",
      "Epoch 75/100\n",
      "26/26 [==============================] - 0s 6ms/step - loss: 1.0294 - val_loss: 1.0366\n",
      "Epoch 76/100\n",
      "26/26 [==============================] - 0s 6ms/step - loss: 0.9913 - val_loss: 1.0343\n",
      "Epoch 77/100\n",
      "26/26 [==============================] - 0s 6ms/step - loss: 1.0138 - val_loss: 1.0294\n",
      "Epoch 78/100\n",
      "26/26 [==============================] - 0s 6ms/step - loss: 1.0097 - val_loss: 1.0299\n",
      "Epoch 79/100\n",
      "26/26 [==============================] - 0s 6ms/step - loss: 0.9901 - val_loss: 1.0281\n",
      "Epoch 80/100\n",
      "26/26 [==============================] - 0s 7ms/step - loss: 1.0047 - val_loss: 1.0249\n",
      "Epoch 81/100\n",
      "26/26 [==============================] - 0s 7ms/step - loss: 1.0038 - val_loss: 1.0247\n",
      "Epoch 82/100\n",
      "26/26 [==============================] - 0s 6ms/step - loss: 0.9989 - val_loss: 1.0267\n",
      "Epoch 83/100\n",
      "26/26 [==============================] - 0s 6ms/step - loss: 0.9983 - val_loss: 1.0265\n",
      "Epoch 84/100\n"
     ]
    },
    {
     "name": "stdout",
     "output_type": "stream",
     "text": [
      "26/26 [==============================] - 0s 6ms/step - loss: 1.0065 - val_loss: 1.0255\n",
      "Epoch 85/100\n",
      "26/26 [==============================] - 0s 6ms/step - loss: 1.0019 - val_loss: 1.0267\n",
      "Epoch 86/100\n",
      "26/26 [==============================] - 0s 6ms/step - loss: 0.9905 - val_loss: 1.0290\n",
      "Epoch 87/100\n",
      "26/26 [==============================] - 0s 6ms/step - loss: 1.0041 - val_loss: 1.0305\n",
      "Epoch 88/100\n",
      "26/26 [==============================] - 0s 6ms/step - loss: 0.9972 - val_loss: 1.0296\n",
      "Epoch 89/100\n",
      "26/26 [==============================] - 0s 6ms/step - loss: 0.9995 - val_loss: 1.0278\n",
      "Epoch 90/100\n",
      "26/26 [==============================] - 0s 6ms/step - loss: 1.0017 - val_loss: 1.0297\n",
      "Epoch 91/100\n",
      "26/26 [==============================] - 0s 6ms/step - loss: 0.9934 - val_loss: 1.0318\n",
      "Epoch 92/100\n",
      "26/26 [==============================] - 0s 6ms/step - loss: 0.9999 - val_loss: 1.0330\n",
      "Epoch 93/100\n",
      "26/26 [==============================] - 0s 6ms/step - loss: 1.0016 - val_loss: 1.0340\n",
      "Epoch 94/100\n",
      "26/26 [==============================] - 0s 6ms/step - loss: 1.0054 - val_loss: 1.0299\n",
      "Epoch 95/100\n",
      "26/26 [==============================] - 0s 6ms/step - loss: 0.9974 - val_loss: 1.0331\n",
      "Epoch 96/100\n",
      "26/26 [==============================] - 0s 6ms/step - loss: 1.0177 - val_loss: 1.0291\n",
      "Epoch 97/100\n",
      "26/26 [==============================] - 0s 6ms/step - loss: 0.9899 - val_loss: 1.0302\n",
      "Epoch 98/100\n",
      "26/26 [==============================] - 0s 6ms/step - loss: 0.9792 - val_loss: 1.0358\n",
      "Epoch 99/100\n",
      "26/26 [==============================] - 0s 7ms/step - loss: 1.0004 - val_loss: 1.0348\n",
      "Epoch 100/100\n",
      "26/26 [==============================] - 0s 7ms/step - loss: 1.0010 - val_loss: 1.0350\n"
     ]
    }
   ],
   "source": [
    "# fitting model\n",
    "model = ann()\n",
    "history = model.fit(features_train, target_train, validation_data = (features_test, target_test), \n",
    "                    batch_size = 10, epochs = 100)"
   ]
  },
  {
   "cell_type": "code",
   "execution_count": 6,
   "id": "0afdfc33",
   "metadata": {},
   "outputs": [
    {
     "data": {
      "text/plain": [
       "<matplotlib.legend.Legend at 0x280a77b50>"
      ]
     },
     "execution_count": 6,
     "metadata": {},
     "output_type": "execute_result"
    },
    {
     "data": {
      "image/png": "[encoded data removed]",
      "text/plain": [
       "<Figure size 432x288 with 1 Axes>"
      ]
     },
     "metadata": {
      "needs_background": "light"
     },
     "output_type": "display_data"
    }
   ],
   "source": [
    "### plotting loss ###\n",
    "\n",
    "plt.plot(history.history['loss'])\n",
    "plt.plot(history.history['val_loss'])\n",
    "plt.title('Model Loss')\n",
    "plt.xlabel('Epochs')\n",
    "plt.ylabel('Loss')\n",
    "plt.legend(['Train', 'Test'], loc = 'upper left')"
   ]
  },
  {
   "cell_type": "code",
   "execution_count": null,
   "id": "ecaa9002",
   "metadata": {},
   "outputs": [],
   "source": [
    "# It seems that about 10 epochs is when the ANN starts to overtrain. We will now retrain the model to use only 10  # epochs."
   ]
  },
  {
   "cell_type": "code",
   "execution_count": 8,
   "id": "d107193d",
   "metadata": {},
   "outputs": [
    {
     "name": "stdout",
     "output_type": "stream",
     "text": [
      "Epoch 1/10\n",
      "25/26 [===========================>..] - ETA: 0s - loss: 1.3110"
     ]
    },
    {
     "name": "stderr",
     "output_type": "stream",
     "text": [
      "2022-04-07 11:34:42.507135: I tensorflow/core/grappler/optimizers/custom_graph_optimizer_registry.cc:113] Plugin optimizer for device_type GPU is enabled.\n"
     ]
    },
    {
     "name": "stdout",
     "output_type": "stream",
     "text": [
      "26/26 [==============================] - 0s 10ms/step - loss: 1.3714 - val_loss: 1.1149\n",
      "Epoch 2/10\n",
      "14/26 [===============>..............] - ETA: 0s - loss: 1.1702"
     ]
    },
    {
     "name": "stderr",
     "output_type": "stream",
     "text": [
      "2022-04-07 11:34:42.755217: I tensorflow/core/grappler/optimizers/custom_graph_optimizer_registry.cc:113] Plugin optimizer for device_type GPU is enabled.\n"
     ]
    },
    {
     "name": "stdout",
     "output_type": "stream",
     "text": [
      "26/26 [==============================] - 0s 6ms/step - loss: 1.1297 - val_loss: 1.0437\n",
      "Epoch 3/10\n",
      "26/26 [==============================] - 0s 6ms/step - loss: 1.0843 - val_loss: 1.0203\n",
      "Epoch 4/10\n",
      "26/26 [==============================] - 0s 6ms/step - loss: 1.0556 - val_loss: 1.0158\n",
      "Epoch 5/10\n",
      "26/26 [==============================] - 0s 7ms/step - loss: 1.0303 - val_loss: 1.0159\n",
      "Epoch 6/10\n",
      "26/26 [==============================] - 0s 6ms/step - loss: 1.0380 - val_loss: 1.0160\n",
      "Epoch 7/10\n",
      "26/26 [==============================] - 0s 6ms/step - loss: 1.0145 - val_loss: 1.0163\n",
      "Epoch 8/10\n",
      "26/26 [==============================] - 0s 6ms/step - loss: 1.0118 - val_loss: 1.0147\n",
      "Epoch 9/10\n",
      "26/26 [==============================] - 0s 7ms/step - loss: 1.0109 - val_loss: 1.0144\n",
      "Epoch 10/10\n",
      "26/26 [==============================] - 0s 6ms/step - loss: 1.0092 - val_loss: 1.0140\n"
     ]
    },
    {
     "data": {
      "text/plain": [
       "<keras.callbacks.History at 0x280db3400>"
      ]
     },
     "execution_count": 8,
     "metadata": {},
     "output_type": "execute_result"
    }
   ],
   "source": [
    "# fitting model\n",
    "model = ann()\n",
    "model.fit(features_train, target_train, validation_data = (features_test, target_test), \n",
    "                    batch_size = 10, epochs = 10)"
   ]
  },
  {
   "cell_type": "code",
   "execution_count": 9,
   "id": "a6123a17",
   "metadata": {},
   "outputs": [
    {
     "name": "stdout",
     "output_type": "stream",
     "text": [
      "RMSE is: 0.9938309715439543 and the r2 is: -0.014012914230401519\n"
     ]
    },
    {
     "name": "stderr",
     "output_type": "stream",
     "text": [
      "2022-04-07 11:35:13.367399: I tensorflow/core/grappler/optimizers/custom_graph_optimizer_registry.cc:113] Plugin optimizer for device_type GPU is enabled.\n"
     ]
    }
   ],
   "source": [
    "### rmse ###\n",
    "\n",
    "# prediction\n",
    "pred = model.predict(features_test)\n",
    "\n",
    "print('RMSE is:', 0.9877 ** 0.5, 'and the r2 is:', r2_score(target_test, pred))"
   ]
  },
  {
   "cell_type": "code",
   "execution_count": null,
   "id": "fd5ee44a",
   "metadata": {},
   "outputs": [],
   "source": [
    "# We were able to improve our RMSE. However, the values are still not great.\n",
    "# Conclusion\n",
    "\n",
    "# ANNs are not a great way to model forest fire damage.\n",
    "\n",
    " #   r2 = -0.0140\n",
    " #   RMSE = 0.9938"
   ]
  },
  {
   "cell_type": "code",
   "execution_count": null,
   "id": "360eb7e8",
   "metadata": {},
   "outputs": [],
   "source": []
  }
 ],
 "metadata": {
  "kernelspec": {
   "display_name": "Python 3 (ipykernel)",
   "language": "python",
   "name": "python3"
  },
  "language_info": {
   "codemirror_mode": {
    "name": "ipython",
    "version": 3
   },
   "file_extension": ".py",
   "mimetype": "text/x-python",
   "name": "python",
   "nbconvert_exporter": "python",
   "pygments_lexer": "ipython3",
   "version": "3.8.13"
  }
 },
 "nbformat": 4,
 "nbformat_minor": 5
}
