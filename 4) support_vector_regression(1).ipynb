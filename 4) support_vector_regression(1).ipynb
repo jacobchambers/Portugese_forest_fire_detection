{
 "cells": [
  {
   "cell_type": "code",
   "execution_count": null,
   "id": "8c6c520e",
   "metadata": {},
   "outputs": [],
   "source": [
    "# Although not amazing, support vector regression (SVR) is better at dealing with uneven spatial data than linear \n",
    "# regression for example so it will hopefully produce a good model."
   ]
  },
  {
   "cell_type": "code",
   "execution_count": 1,
   "id": "51538571",
   "metadata": {},
   "outputs": [],
   "source": [
    "### import libraries ###\n",
    "\n",
    "import pandas as pd\n",
    "from sklearn.svm import SVR\n",
    "from sklearn.metrics import r2_score, mean_squared_error\n",
    "from sklearn.model_selection import GridSearchCV"
   ]
  },
  {
   "cell_type": "code",
   "execution_count": 3,
   "id": "e3bd659c",
   "metadata": {},
   "outputs": [],
   "source": [
    "# features\n",
    "features_train = pd.read_csv('features_train.csv', index_col = 0)\n",
    "features_test = pd.read_csv('features_test.csv', index_col = 0)\n",
    "\n",
    "# target\n",
    "target_train = pd.read_csv('target_train.csv', index_col = 0)\n",
    "target_test = pd.read_csv('target_test.csv', index_col = 0)"
   ]
  },
  {
   "cell_type": "code",
   "execution_count": null,
   "id": "956b4f6e",
   "metadata": {},
   "outputs": [],
   "source": [
    "# Now we will model using SVR but we will use a grid search to find the optimal parameters."
   ]
  },
  {
   "cell_type": "code",
   "execution_count": 4,
   "id": "42e8ca79",
   "metadata": {},
   "outputs": [
    {
     "data": {
      "text/plain": [
       "{'C': 1, 'kernel': 'rbf'}"
      ]
     },
     "execution_count": 4,
     "metadata": {},
     "output_type": "execute_result"
    }
   ],
   "source": [
    "### building grid search ###\n",
    "\n",
    "# choosing SVR\n",
    "model = SVR()\n",
    "\n",
    "# parameters to search through\n",
    "parameters = {'kernel' : ('linear', 'rbf'), 'C' : [0.01, 0.1, 1, 10, 100, 1000]}\n",
    "\n",
    "# fitting grid search\n",
    "clf = GridSearchCV(model, parameters)\n",
    "clf.fit(features_train, target_train.values.ravel())\n",
    "\n",
    "# showing best parameters\n",
    "clf.best_params_"
   ]
  },
  {
   "cell_type": "code",
   "execution_count": 5,
   "id": "d8675bc3",
   "metadata": {},
   "outputs": [
    {
     "name": "stdout",
     "output_type": "stream",
     "text": [
      "RMSE is: 1.0633770643225116 and the r2 is: -0.13077078092716277\n"
     ]
    }
   ],
   "source": [
    "### checking metrics using best parameters for SVR ###\n",
    "\n",
    "# choosing best parameters\n",
    "model = SVR(C = 1, kernel = 'rbf')\n",
    "\n",
    "# fitting model\n",
    "model.fit(features_train, target_train.values.ravel())\n",
    "\n",
    "# predicted target\n",
    "pred = model.predict(features_test)\n",
    "\n",
    "print('RMSE is:', mean_squared_error(target_test, pred, squared = False), 'and the r2 is:', r2_score(target_test, pred))\n"
   ]
  },
  {
   "cell_type": "code",
   "execution_count": null,
   "id": "af4a86b5",
   "metadata": {},
   "outputs": [],
   "source": [
    "# RMSE is: 1.0633770643225113 and the r2 is: -0.13077078092716254\n",
    "\n",
    "# SVR does not act as a good model as it is worse than a horizontal line.\n",
    "\n",
    "\n",
    "\n",
    "# Conclusion\n",
    "\n",
    "# SVR is not a good model for predicting forest fire damage.\n",
    "\n",
    "  #  r2 = -0.1308\n",
    "  #  RMSE = 1.0634"
   ]
  },
  {
   "cell_type": "code",
   "execution_count": null,
   "id": "5028b3ee",
   "metadata": {},
   "outputs": [],
   "source": []
  }
 ],
 "metadata": {
  "kernelspec": {
   "display_name": "Python 3 (ipykernel)",
   "language": "python",
   "name": "python3"
  },
  "language_info": {
   "codemirror_mode": {
    "name": "ipython",
    "version": 3
   },
   "file_extension": ".py",
   "mimetype": "text/x-python",
   "name": "python",
   "nbconvert_exporter": "python",
   "pygments_lexer": "ipython3",
   "version": "3.8.13"
  }
 },
 "nbformat": 4,
 "nbformat_minor": 5
}
